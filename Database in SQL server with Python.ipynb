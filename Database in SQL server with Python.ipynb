{
 "cells": [
  {
   "cell_type": "code",
   "execution_count": 4,
   "id": "27fe5d47",
   "metadata": {},
   "outputs": [],
   "source": [
    "import pyodbc\n",
    "import pandas as pd \n",
    "pyodbc.drivers()\n",
    "\n",
    "conn = pyodbc.connect(\n",
    "    \n",
    "    'Driver={ODBC Driver 18 for SQL Server};'\n",
    "    'Server=tcp:localhost,1433;'\n",
    "    'Database=AdventureWorks2017;'\n",
    "    'Encrypt=yes;'\n",
    "    'TrustServerCertificate=YES;'\n",
    "    'UID=sa;'\n",
    "    'PWD=anypassword;'\n",
    "\n",
    ")\n",
    "\n",
    "cursor = conn.cursor()\n",
    "\n",
    "\n",
    "\n"
   ]
  },
  {
   "cell_type": "code",
   "execution_count": 6,
   "id": "7645816d",
   "metadata": {},
   "outputs": [
    {
     "data": {
      "text/html": [
       "<div>\n",
       "<style scoped>\n",
       "    .dataframe tbody tr th:only-of-type {\n",
       "        vertical-align: middle;\n",
       "    }\n",
       "\n",
       "    .dataframe tbody tr th {\n",
       "        vertical-align: top;\n",
       "    }\n",
       "\n",
       "    .dataframe thead th {\n",
       "        text-align: right;\n",
       "    }\n",
       "</style>\n",
       "<table border=\"1\" class=\"dataframe\">\n",
       "  <thead>\n",
       "    <tr style=\"text-align: right;\">\n",
       "      <th></th>\n",
       "      <th>id</th>\n",
       "      <th>first_name</th>\n",
       "      <th>last_name</th>\n",
       "      <th>email</th>\n",
       "      <th>gender</th>\n",
       "      <th>ip_address</th>\n",
       "      <th>city</th>\n",
       "    </tr>\n",
       "  </thead>\n",
       "  <tbody>\n",
       "    <tr>\n",
       "      <th>0</th>\n",
       "      <td>1</td>\n",
       "      <td>Joseph</td>\n",
       "      <td>Zaniolin</td>\n",
       "      <td>jzaniolini0@simplemachines.org</td>\n",
       "      <td>Male</td>\n",
       "      <td>162.162.68.132</td>\n",
       "      <td>Pedro Leopoldo</td>\n",
       "    </tr>\n",
       "    <tr>\n",
       "      <th>1</th>\n",
       "      <td>2</td>\n",
       "      <td>Freida</td>\n",
       "      <td>Drillingco</td>\n",
       "      <td>fdrillingcourt1@umich.edu</td>\n",
       "      <td>Female</td>\n",
       "      <td>97.214.102.74</td>\n",
       "      <td>Buri</td>\n",
       "    </tr>\n",
       "    <tr>\n",
       "      <th>2</th>\n",
       "      <td>3</td>\n",
       "      <td>Nanni</td>\n",
       "      <td>Heritye</td>\n",
       "      <td>nherity2@statcounter.com</td>\n",
       "      <td>Female</td>\n",
       "      <td>145.151.178.98</td>\n",
       "      <td>Claver</td>\n",
       "    </tr>\n",
       "    <tr>\n",
       "      <th>3</th>\n",
       "      <td>4</td>\n",
       "      <td>Orazio</td>\n",
       "      <td>Fraylinge</td>\n",
       "      <td>ofrayling3@economist.com</td>\n",
       "      <td>Male</td>\n",
       "      <td>162.162.68.132</td>\n",
       "      <td>Kungur</td>\n",
       "    </tr>\n",
       "    <tr>\n",
       "      <th>4</th>\n",
       "      <td>5</td>\n",
       "      <td>Julianne</td>\n",
       "      <td>Murrisonz</td>\n",
       "      <td>jmurrison4@cbslocal.com</td>\n",
       "      <td>Female</td>\n",
       "      <td>97.214.102.74</td>\n",
       "      <td>Sainte-Luce-sur-Loire</td>\n",
       "    </tr>\n",
       "  </tbody>\n",
       "</table>\n",
       "</div>"
      ],
      "text/plain": [
       "   id first_name   last_name                           email  gender  \\\n",
       "0   1     Joseph    Zaniolin  jzaniolini0@simplemachines.org    Male   \n",
       "1   2     Freida  Drillingco       fdrillingcourt1@umich.edu  Female   \n",
       "2   3      Nanni     Heritye        nherity2@statcounter.com  Female   \n",
       "3   4     Orazio   Fraylinge        ofrayling3@economist.com    Male   \n",
       "4   5   Julianne   Murrisonz         jmurrison4@cbslocal.com  Female   \n",
       "\n",
       "       ip_address                   city  \n",
       "0  162.162.68.132         Pedro Leopoldo  \n",
       "1   97.214.102.74                   Buri  \n",
       "2  145.151.178.98                 Claver  \n",
       "3  162.162.68.132                 Kungur  \n",
       "4   97.214.102.74  Sainte-Luce-sur-Loire  "
      ]
     },
     "execution_count": 6,
     "metadata": {},
     "output_type": "execute_result"
    }
   ],
   "source": [
    "df = pd.read_csv(\"/Users/f/Desktop/data_example/data_example.csv\")\n",
    "df.head()\n"
   ]
  },
  {
   "cell_type": "code",
   "execution_count": 7,
   "id": "0b44a09e",
   "metadata": {},
   "outputs": [
    {
     "data": {
      "text/plain": [
       "Index(['id', 'first_name', 'last_name', 'email', 'gender', 'ip_address',\n",
       "       'city'],\n",
       "      dtype='object')"
      ]
     },
     "execution_count": 7,
     "metadata": {},
     "output_type": "execute_result"
    }
   ],
   "source": [
    "df.columns"
   ]
  },
  {
   "cell_type": "code",
   "execution_count": null,
   "id": "8edd1ae2",
   "metadata": {},
   "outputs": [],
   "source": []
  },
  {
   "cell_type": "code",
   "execution_count": 12,
   "id": "82248bb1",
   "metadata": {},
   "outputs": [],
   "source": [
    "cursor.execute('''\n",
    "                CREATE TABLE TABLE2\n",
    "                (\n",
    "                \n",
    "                id int primary key, first_name nvarchar(50), last_name nvarchar(50), email nvarchar(50), gender nvarchar(50), ip_address nvarchar(50),\n",
    "       city nvarchar(50)\n",
    "                \n",
    "                )             \n",
    "                \n",
    "                ''')\n",
    "\n",
    "\n",
    "for row in df.itertuples():\n",
    "    cursor.execute('''\n",
    "    INSERT INTO AdventureWorks2017.dbo.TABLE2 ( id, first_name, last_name, email, gender, ip_address,\n",
    "       city)\n",
    "    VALUES(?,?,?,?,?,?,?)\n",
    "    \n",
    "    ''',\n",
    "                    \n",
    "                    row.id,\n",
    "                    row.first_name,\n",
    "                    row.last_name,\n",
    "                    row.email,\n",
    "                    row.gender,\n",
    "                    row.ip_address,\n",
    "                    row.city,\n",
    "    \n",
    "    )\n",
    "    \n",
    "    conn.commit()\n"
   ]
  },
  {
   "cell_type": "code",
   "execution_count": null,
   "id": "9a14bb40",
   "metadata": {},
   "outputs": [],
   "source": []
  }
 ],
 "metadata": {
  "kernelspec": {
   "display_name": "Python 3 (ipykernel)",
   "language": "python",
   "name": "python3"
  },
  "language_info": {
   "codemirror_mode": {
    "name": "ipython",
    "version": 3
   },
   "file_extension": ".py",
   "mimetype": "text/x-python",
   "name": "python",
   "nbconvert_exporter": "python",
   "pygments_lexer": "ipython3",
   "version": "3.9.12"
  }
 },
 "nbformat": 4,
 "nbformat_minor": 5
}
